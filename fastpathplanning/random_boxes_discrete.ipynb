{
 "cells": [
  {
   "cell_type": "code",
   "execution_count": null,
   "id": "37dfdf43",
   "metadata": {},
   "outputs": [],
   "source": [
    "%matplotlib notebook\n",
    "%load_ext autoreload\n",
    "%autoreload 2"
   ]
  },
  {
   "cell_type": "code",
   "execution_count": null,
   "id": "4def8f08",
   "metadata": {},
   "outputs": [],
   "source": [
    "import numpy as np\n",
    "import matplotlib.pyplot as plt\n",
    "\n",
    "from boxes import BoxCollection\n",
    "from discrete_ocp import build_optimal_control, initial_safety_sequence"
   ]
  },
  {
   "cell_type": "markdown",
   "id": "9e6164ee",
   "metadata": {},
   "source": [
    "# Offline preprocessing"
   ]
  },
  {
   "cell_type": "code",
   "execution_count": null,
   "id": "270220d6",
   "metadata": {},
   "outputs": [],
   "source": [
    "# Generate random safe boxes.\n",
    "d = 2\n",
    "env_side = 10\n",
    "box_sides = [2, .5]\n",
    "B = BoxCollection.generate_grid(d, env_side, box_sides, seed=0)\n",
    "\n",
    "# Compute line graph with optimal representative points.\n",
    "G = B.line_graph('optimize')"
   ]
  },
  {
   "cell_type": "code",
   "execution_count": null,
   "id": "0c14211f",
   "metadata": {},
   "outputs": [],
   "source": [
    "plt.figure(figsize=(5, 5))\n",
    "B.plot2d(alpha=.5)\n",
    "G.plot()"
   ]
  },
  {
   "cell_type": "code",
   "execution_count": null,
   "id": "aa7c016c",
   "metadata": {},
   "outputs": [],
   "source": [
    "# Build quadratic program for optimal-control problems.\n",
    "T = env_side\n",
    "N = env_side * 10\n",
    "lam = [0, 0, 1]\n",
    "solver = 'OSQP'\n",
    "path_planner = build_optimal_control(B, T, N, lam, verbose=True, solver=solver)"
   ]
  },
  {
   "cell_type": "markdown",
   "id": "bf6086fb",
   "metadata": {},
   "source": [
    "# Online shortest-path problem"
   ]
  },
  {
   "cell_type": "code",
   "execution_count": null,
   "id": "227060d8",
   "metadata": {},
   "outputs": [],
   "source": [
    "# Initial and final positions.\n",
    "start = np.zeros(2)\n",
    "goal = np.ones(2) * (env_side - 1)"
   ]
  },
  {
   "cell_type": "code",
   "execution_count": null,
   "id": "1ddeffa0",
   "metadata": {},
   "outputs": [],
   "source": [
    "# All-to-one shortest path for a fixed goal location.\n",
    "discrete_planner, runtime = G.shortest_path(goal)\n",
    "runtime"
   ]
  },
  {
   "cell_type": "code",
   "execution_count": null,
   "id": "f2189035",
   "metadata": {},
   "outputs": [],
   "source": [
    "# Given start location, finds initial box sequence.\n",
    "box_seq, length, runtime = discrete_planner(start)\n",
    "length, runtime"
   ]
  },
  {
   "cell_type": "code",
   "execution_count": null,
   "id": "32075168",
   "metadata": {},
   "outputs": [],
   "source": [
    "plt.figure(figsize=(5, 5))\n",
    "B.plot2d(alpha=.5)\n",
    "B.plot2d(subset=box_seq, fc='None', ec='r')"
   ]
  },
  {
   "cell_type": "markdown",
   "id": "6753adec",
   "metadata": {},
   "source": [
    "# Online optimal-control problems"
   ]
  },
  {
   "cell_type": "code",
   "execution_count": null,
   "id": "f501bc2f",
   "metadata": {},
   "outputs": [],
   "source": [
    "# Sample the Dijkstra path to get initial safety sequence.\n",
    "safety_seq = initial_safety_sequence(G, N, start, goal, box_seq)\n",
    "\n",
    "# Solve sequence of optimal-control problems.\n",
    "cost, path, safety_seq, solver_time = path_planner(start, goal, safety_seq)\n",
    "cost, solver_time"
   ]
  },
  {
   "cell_type": "code",
   "execution_count": null,
   "id": "1a03ca59",
   "metadata": {},
   "outputs": [],
   "source": [
    "plt.figure(figsize=(5, 5))\n",
    "B.plot2d(alpha=.5)\n",
    "plt.plot(*path.T, c='b', marker='x')"
   ]
  }
 ],
 "metadata": {
  "kernelspec": {
   "display_name": "Python 3 (ipykernel)",
   "language": "python",
   "name": "python3"
  },
  "language_info": {
   "codemirror_mode": {
    "name": "ipython",
    "version": 3
   },
   "file_extension": ".py",
   "mimetype": "text/x-python",
   "name": "python",
   "nbconvert_exporter": "python",
   "pygments_lexer": "ipython3",
   "version": "3.11.2"
  }
 },
 "nbformat": 4,
 "nbformat_minor": 5
}
