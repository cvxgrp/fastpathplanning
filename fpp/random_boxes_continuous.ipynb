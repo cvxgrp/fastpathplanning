{
 "cells": [
  {
   "cell_type": "code",
   "execution_count": null,
   "id": "37dfdf43",
   "metadata": {},
   "outputs": [],
   "source": [
    "%matplotlib notebook\n",
    "%load_ext autoreload\n",
    "%autoreload 2"
   ]
  },
  {
   "cell_type": "code",
   "execution_count": null,
   "id": "4def8f08",
   "metadata": {},
   "outputs": [],
   "source": [
    "import numpy as np\n",
    "import matplotlib.pyplot as plt\n",
    "\n",
    "from boxes import BoxCollection\n",
    "from polygonal import build_min_distance"
   ]
  },
  {
   "cell_type": "markdown",
   "id": "9e6164ee",
   "metadata": {},
   "source": [
    "# Offline preprocessing"
   ]
  },
  {
   "cell_type": "code",
   "execution_count": null,
   "id": "270220d6",
   "metadata": {},
   "outputs": [],
   "source": [
    "from time import time\n",
    "\n",
    "d = 2\n",
    "n = 50\n",
    "sides = [2, .5]\n",
    "\n",
    "B = BoxCollection.generate_grid(d, n, sides, seed=0)\n",
    "G = B.line_graph('optimize')"
   ]
  },
  {
   "cell_type": "code",
   "execution_count": null,
   "id": "93a7e36f",
   "metadata": {},
   "outputs": [],
   "source": [
    "plt.figure(figsize=(5, 5))\n",
    "B.plot2d(alpha=.5)\n",
    "# G.plot()"
   ]
  },
  {
   "cell_type": "markdown",
   "id": "bf6086fb",
   "metadata": {},
   "source": [
    "# Polygonal pahse: shortest-path problem"
   ]
  },
  {
   "cell_type": "code",
   "execution_count": null,
   "id": "227060d8",
   "metadata": {},
   "outputs": [],
   "source": [
    "start = np.zeros(2)\n",
    "goal = np.ones(2) * (n - 1)"
   ]
  },
  {
   "cell_type": "code",
   "execution_count": null,
   "id": "1ddeffa0",
   "metadata": {},
   "outputs": [],
   "source": [
    "# Solves all-to-one shortest path for a fixed goal location.\n",
    "discrete_planner, runtime = G.shortest_path(goal)\n",
    "runtime"
   ]
  },
  {
   "cell_type": "code",
   "execution_count": null,
   "id": "f2189035",
   "metadata": {},
   "outputs": [],
   "source": [
    "# Given start location finds box sequence (and initial trajectory).\n",
    "box_seq, length, runtime = discrete_planner(start)\n",
    "length, runtime"
   ]
  },
  {
   "cell_type": "markdown",
   "id": "6753adec",
   "metadata": {},
   "source": [
    "# Polygonal pahse: iterative shortening"
   ]
  },
  {
   "cell_type": "code",
   "execution_count": null,
   "id": "c29eb8e2",
   "metadata": {},
   "outputs": [],
   "source": [
    "# Builds optimization problem (can be done offline).\n",
    "max_boxes = len(box_seq)\n",
    "continuous_planner = build_min_distance(B, max_boxes, solver='ECOS')"
   ]
  },
  {
   "cell_type": "code",
   "execution_count": null,
   "id": "f5d5d405",
   "metadata": {},
   "outputs": [],
   "source": [
    "traj, length, solver_time, runtime = continuous_planner(box_seq, start, goal)\n",
    "length, solver_time, runtime"
   ]
  },
  {
   "cell_type": "code",
   "execution_count": null,
   "id": "70f50b7c",
   "metadata": {},
   "outputs": [],
   "source": [
    "plt.figure(figsize=(5, 5))\n",
    "B.plot2d(alpha=.5)\n",
    "plt.plot(*traj.T, c='b')"
   ]
  },
  {
   "cell_type": "code",
   "execution_count": null,
   "id": "f9d5d157",
   "metadata": {},
   "outputs": [],
   "source": [
    "# Builds optimization problem (can be done offline).\n",
    "iterative = True\n",
    "max_boxes = 2 * n\n",
    "continuous_planner = build_min_distance(B, max_boxes, iterative, solver='ECOS')\n",
    "\n",
    "# Refresh discrete plan.\n",
    "box_seq, runtime, length = discrete_planner(start)"
   ]
  },
  {
   "cell_type": "code",
   "execution_count": null,
   "id": "f501bc2f",
   "metadata": {},
   "outputs": [],
   "source": [
    "box_seq, traj, length, solver_time, runtime = continuous_planner(box_seq, start, goal)\n",
    "length, solver_time, runtime"
   ]
  },
  {
   "cell_type": "code",
   "execution_count": null,
   "id": "46adb02f",
   "metadata": {},
   "outputs": [],
   "source": [
    "plt.figure(figsize=(5, 5))\n",
    "B.plot2d(alpha=.5)\n",
    "B.plot2d(subset=box_seq, fc='None', ec='r')\n",
    "plt.plot(*traj.T, c='b', marker='+')"
   ]
  },
  {
   "cell_type": "markdown",
   "id": "ba134458",
   "metadata": {},
   "source": [
    "# Smooth phase"
   ]
  },
  {
   "cell_type": "code",
   "execution_count": null,
   "id": "87bd740b",
   "metadata": {},
   "outputs": [],
   "source": [
    "import cvxpy as cp\n",
    "from bezier import optimize_bezier, optimize_bezier_with_retiming\n",
    "\n",
    "l = np.array([B.boxes[i].l for i in box_seq])\n",
    "u = np.array([B.boxes[i].u for i in box_seq])\n",
    "\n",
    "lam = {3: 1}\n",
    "initial = {0: start}\n",
    "final = {0: goal}\n",
    "\n",
    "T = n\n",
    "h0 = np.linalg.norm(traj[1:] - traj[:-1], axis=1)\n",
    "h0 *= T / sum(h0)"
   ]
  },
  {
   "cell_type": "code",
   "execution_count": null,
   "id": "49fdd8cf",
   "metadata": {},
   "outputs": [],
   "source": [
    "solver = 'ECOS'\n",
    "bez0, cost0, runtime0 = optimize_bezier(l, u, h0, lam, initial, final, solver=solver)[:-1]\n",
    "cost0, runtime0"
   ]
  },
  {
   "cell_type": "code",
   "execution_count": null,
   "id": "5c25510a",
   "metadata": {},
   "outputs": [],
   "source": [
    "bez, cost, h, runtime = optimize_bezier_with_retiming(l, u, h0, lam, initial, final,\n",
    "                                                      verbose=True, solver=solver)"
   ]
  },
  {
   "cell_type": "code",
   "execution_count": null,
   "id": "398569ef",
   "metadata": {},
   "outputs": [],
   "source": [
    "plt.figure(figsize=(5, 5))\n",
    "B.plot2d(alpha=.5)\n",
    "bez0.plot2d(c='red')\n",
    "bez.plot2d(c='blue')"
   ]
  },
  {
   "cell_type": "code",
   "execution_count": null,
   "id": "26cb3f01",
   "metadata": {},
   "outputs": [],
   "source": [
    "from itertools import accumulate\n",
    "\n",
    "plt.figure()\n",
    "times0 = [0] + list(accumulate(h0))\n",
    "times = [0] + list(accumulate(h))\n",
    "segments = np.arange(len(h) + 1)\n",
    "plt.plot(times0, segments, label='Initial trajectory')\n",
    "plt.plot(times, segments, label='Final trajectory')\n",
    "plt.xlabel('Time')\n",
    "plt.ylabel('Trajectory segments')\n",
    "plt.grid()\n",
    "plt.xlim([0, T])\n",
    "plt.ylim([0, len(h)])\n",
    "plt.legend()"
   ]
  }
 ],
 "metadata": {
  "kernelspec": {
   "display_name": "Python 3 (ipykernel)",
   "language": "python",
   "name": "python3"
  },
  "language_info": {
   "codemirror_mode": {
    "name": "ipython",
    "version": 3
   },
   "file_extension": ".py",
   "mimetype": "text/x-python",
   "name": "python",
   "nbconvert_exporter": "python",
   "pygments_lexer": "ipython3",
   "version": "3.11.2"
  }
 },
 "nbformat": 4,
 "nbformat_minor": 5
}
