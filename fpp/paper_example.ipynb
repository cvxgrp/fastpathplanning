{
 "cells": [
  {
   "cell_type": "code",
   "execution_count": null,
   "id": "5b5bc0b2",
   "metadata": {},
   "outputs": [],
   "source": [
    "%matplotlib notebook\n",
    "%load_ext autoreload\n",
    "%autoreload 2"
   ]
  },
  {
   "cell_type": "code",
   "execution_count": null,
   "id": "4def8f08",
   "metadata": {},
   "outputs": [],
   "source": [
    "import numpy as np\n",
    "import matplotlib.pyplot as plt\n",
    "\n",
    "from boxes import Box, BoxCollection"
   ]
  },
  {
   "cell_type": "markdown",
   "id": "9e6164ee",
   "metadata": {},
   "source": [
    "# Offline"
   ]
  },
  {
   "cell_type": "code",
   "execution_count": null,
   "id": "56c98283",
   "metadata": {},
   "outputs": [],
   "source": [
    "boxes = [\n",
    "    Box([6.25,    4], [7.25, 5.75]),\n",
    "    Box([ 5.5,  2.5], [ 7.5, 4.75]),\n",
    "    Box([   1,    4], [   6,    5]),\n",
    "    Box([ .25,  1.5], [   7,    3]),\n",
    "    Box([2.25,  .75], [   3,  2.5]),\n",
    "    Box([  .5, -.25], [ 1.5,  4.5]),\n",
    "    Box([   2,    0], [6.25,    1]),\n",
    "    Box([4.75, -.25], [   6, 3.75]),\n",
    "    Box([   0,  5.2], [   7,    6]),\n",
    "]\n",
    "B = BoxCollection(boxes)"
   ]
  },
  {
   "cell_type": "code",
   "execution_count": null,
   "id": "b52ff1fc",
   "metadata": {},
   "outputs": [],
   "source": [
    "u = np.array([b.u for b in boxes])\n",
    "l = np.array([b.l for b in boxes])\n",
    "frame = .1\n",
    "lims = np.vstack([\n",
    "    np.min(l, axis=0) - frame,\n",
    "    np.max(u, axis=0) + frame\n",
    "])\n",
    "figsize = (lims[1] - lims[0]) / 2.5\n",
    "\n",
    "def initialize_figure():\n",
    "    plt.figure(figsize=figsize)\n",
    "    plt.gca().set_aspect('equal')\n",
    "    plt.axis('off')\n",
    "    plt.xlim(lims[:, 0])\n",
    "    plt.ylim(lims[:, 1])"
   ]
  },
  {
   "cell_type": "code",
   "execution_count": null,
   "id": "eda4ebfb",
   "metadata": {},
   "outputs": [],
   "source": [
    "initialize_figure()\n",
    "B.plot2d(alpha=.75)\n",
    "# plt.savefig('boxes.pdf', bbox_inches='tight')"
   ]
  },
  {
   "cell_type": "code",
   "execution_count": null,
   "id": "28318e61",
   "metadata": {},
   "outputs": [],
   "source": [
    "G_center = B.line_graph('centers')\n",
    "intersections = [G_center.nodes[v]['box'] for v in G_center.nodes]\n",
    "I = BoxCollection(intersections)"
   ]
  },
  {
   "cell_type": "code",
   "execution_count": null,
   "id": "69b69701",
   "metadata": {},
   "outputs": [],
   "source": [
    "initialize_figure()\n",
    "B.plot2d(alpha=.25)\n",
    "I.plot2d(fc='lightcoral', alpha=.75)\n",
    "# plt.savefig('intersections.pdf', bbox_inches='tight')"
   ]
  },
  {
   "cell_type": "code",
   "execution_count": null,
   "id": "2398f93c",
   "metadata": {},
   "outputs": [],
   "source": [
    "initialize_figure()\n",
    "B.plot2d(alpha=.25)\n",
    "G_center.plot(c='b')\n",
    "I.plot2d(fc='lightcoral', alpha=.75)\n",
    "# plt.savefig('line_graph_centers.pdf', bbox_inches='tight')"
   ]
  },
  {
   "cell_type": "code",
   "execution_count": null,
   "id": "93a7e36f",
   "metadata": {},
   "outputs": [],
   "source": [
    "G_opt = B.line_graph('optimize')\n",
    "initialize_figure()\n",
    "B.plot2d(alpha=.25)\n",
    "I.plot2d(fc='lightcoral', alpha=.75)\n",
    "G_opt.plot(c='b')\n",
    "# plt.savefig('line_graph_optimized.pdf', bbox_inches='tight')"
   ]
  },
  {
   "cell_type": "markdown",
   "id": "11246e50",
   "metadata": {},
   "source": [
    "# Online"
   ]
  },
  {
   "cell_type": "code",
   "execution_count": null,
   "id": "991c6a1c",
   "metadata": {},
   "outputs": [],
   "source": [
    "start = np.array([1, .25])\n",
    "goal = np.array([.5, 5.6])"
   ]
  },
  {
   "cell_type": "code",
   "execution_count": null,
   "id": "084543ce",
   "metadata": {},
   "outputs": [],
   "source": [
    "G_opt.add_node('s')\n",
    "G_opt.nodes['s']['point'] = start\n",
    "\n",
    "for k in B.contain(start):\n",
    "    for l in B.inters[k]:\n",
    "        v = G_opt.node(k, l)\n",
    "        e = ('s', v)\n",
    "        G_opt.add_edge(*e)\n",
    "        pv = G_opt.nodes[v]['point']\n",
    "        G_opt.edges[e]['weight'] = np.linalg.norm(start - pv)\n",
    "        \n",
    "G_opt.add_node('t')\n",
    "G_opt.nodes['t']['point'] = goal\n",
    "\n",
    "for k in B.contain(goal):\n",
    "    for l in B.inters[k]:\n",
    "        v = G_opt.node(k, l)\n",
    "        e = (v, 't')\n",
    "        G_opt.add_edge(*e)\n",
    "        pv = G_opt.nodes[v]['point']\n",
    "        G_opt.edges[e]['weight'] = np.linalg.norm(goal - pv)"
   ]
  },
  {
   "cell_type": "code",
   "execution_count": null,
   "id": "6ba42905",
   "metadata": {},
   "outputs": [],
   "source": [
    "initialize_figure()\n",
    "B.plot2d(alpha=.25)\n",
    "I.plot2d(fc='lightcoral', alpha=.75)\n",
    "G_opt.plot(c='b')\n",
    "d = np.array([.2, 0])\n",
    "plt.scatter(*start, marker='o', fc='k', ec='k', zorder=5)\n",
    "plt.scatter(*goal, marker='o', fc='k', ec='k', zorder=5)\n",
    "# plt.savefig('boundary_conditions.pdf', bbox_inches='tight')"
   ]
  },
  {
   "cell_type": "code",
   "execution_count": null,
   "id": "bd6f6baf",
   "metadata": {},
   "outputs": [],
   "source": [
    "import networkx as nx\n",
    "path = nx.shortest_path(G_opt, source='s', target='t', weight='weight')\n",
    "traj = np.array([G_opt.nodes[v]['point'] for v in path])"
   ]
  },
  {
   "cell_type": "code",
   "execution_count": null,
   "id": "ad5cfe14",
   "metadata": {},
   "outputs": [],
   "source": [
    "initialize_figure()\n",
    "B.plot2d(alpha=.25)\n",
    "path_nodes = [list(G_opt.nodes).index(v) for v in path]\n",
    "I.plot2d(fc='lightcoral', alpha=.75, subset=path_nodes)\n",
    "plt.plot(*traj.T, c='b', marker='o', markerfacecolor='w', markeredgecolor='k')\n",
    "plt.scatter(*start, marker='o', fc='k', ec='k', zorder=5)\n",
    "plt.scatter(*goal, marker='o', fc='k', ec='k', zorder=5)\n",
    "# plt.savefig('spp.pdf', bbox_inches='tight')"
   ]
  },
  {
   "cell_type": "code",
   "execution_count": null,
   "id": "2cdfd236",
   "metadata": {},
   "outputs": [],
   "source": [
    "from polygonal import build_min_distance\n",
    "\n",
    "G_opt = B.line_graph('optimize')\n",
    "discrete_planner, runtime = G_opt.shortest_path(goal)\n",
    "box_seq, length, runtime = discrete_planner(start)\n",
    "\n",
    "max_boxes = len(box_seq)\n",
    "continuous_planner = build_min_distance(B, max_boxes, solver='ECOS')\n",
    "traj, length, solver_time, runtime = continuous_planner(box_seq, start, goal)\n",
    "\n",
    "initialize_figure()\n",
    "B.plot2d(alpha=.25)\n",
    "B.plot2d(fc='moccasin', alpha=.75, subset=box_seq)\n",
    "plt.plot(*traj.T, c='b', marker='o', markerfacecolor='w', markeredgecolor='k')\n",
    "plt.scatter(*start, marker='o', fc='k', ec='k', zorder=5)\n",
    "plt.scatter(*goal, marker='o', fc='k', ec='k', zorder=5)\n",
    "# plt.savefig('first_refine.pdf', bbox_inches='tight')"
   ]
  },
  {
   "cell_type": "code",
   "execution_count": null,
   "id": "88c00841",
   "metadata": {},
   "outputs": [],
   "source": [
    "box_seq = [5, 3, 7, 1, 0, 8]\n",
    "\n",
    "max_boxes = len(box_seq)\n",
    "continuous_planner = build_min_distance(B, max_boxes, solver='ECOS')\n",
    "traj, length, solver_time, runtime = continuous_planner(box_seq, start, goal)\n",
    "\n",
    "initialize_figure()\n",
    "B.plot2d(alpha=.25)\n",
    "B.plot2d(fc='moccasin', alpha=.75, subset=[i for i in box_seq if i != 7])\n",
    "B.plot2d(fc='lightgreen', alpha=.75, subset=[7])\n",
    "plt.plot(*traj.T, c='b', marker='o', markerfacecolor='w', markeredgecolor='k')\n",
    "plt.scatter(*start, marker='o', fc='k', ec='k', zorder=5)\n",
    "plt.scatter(*goal, marker='o', fc='k', ec='k', zorder=5)\n",
    "# plt.savefig('second_refine.pdf', bbox_inches='tight')"
   ]
  },
  {
   "cell_type": "code",
   "execution_count": null,
   "id": "c72487e7",
   "metadata": {},
   "outputs": [],
   "source": [
    "initialize_figure()\n",
    "B.plot2d(alpha=.25)\n",
    "B.plot2d(fc='moccasin', alpha=.75, subset=box_seq)\n",
    "plt.plot(*traj.T, c='b', marker='o', markerfacecolor='w', markeredgecolor='k')\n",
    "plt.scatter(*start, marker='o', fc='k', ec='k', zorder=5)\n",
    "plt.scatter(*goal, marker='o', fc='k', ec='k', zorder=5)\n",
    "# plt.savefig('polygonal.pdf', bbox_inches='tight')"
   ]
  },
  {
   "cell_type": "code",
   "execution_count": null,
   "id": "d2cc7d19",
   "metadata": {},
   "outputs": [],
   "source": [
    "import cvxpy as cp\n",
    "from bezier import optimize_bezier, optimize_bezier_with_retiming\n",
    "\n",
    "l = np.array([B.boxes[i].l for i in box_seq])\n",
    "u = np.array([B.boxes[i].u for i in box_seq])\n",
    "\n",
    "lam = {3: 1}\n",
    "initial = {0: start}\n",
    "final = {0: goal}\n",
    "\n",
    "T = 10\n",
    "h0 = np.linalg.norm(traj[1:] - traj[:-1], axis=1)\n",
    "h0 *= T / sum(h0)"
   ]
  },
  {
   "cell_type": "code",
   "execution_count": null,
   "id": "92626062",
   "metadata": {
    "scrolled": true
   },
   "outputs": [],
   "source": [
    "bez0, cost0, runtime0 = optimize_bezier(l, u, h0, lam, initial, final)[:-1]\n",
    "cost0, runtime0"
   ]
  },
  {
   "cell_type": "code",
   "execution_count": null,
   "id": "74ef0f7f",
   "metadata": {
    "scrolled": true
   },
   "outputs": [],
   "source": [
    "bez, cost, h, runtime = optimize_bezier_with_retiming(l, u, h0, lam,\n",
    "                                                                        initial, final,\n",
    "                                                                        verbose=True)"
   ]
  },
  {
   "cell_type": "code",
   "execution_count": null,
   "id": "83649a16",
   "metadata": {},
   "outputs": [],
   "source": [
    "plt.rcParams.update({\"\"\n",
    "    \"text.usetex\": True,\n",
    "    \"font.family\": \"sans-serif\",\n",
    "    \"font.sans-serif\": \"Helvetica\",\n",
    "})"
   ]
  },
  {
   "cell_type": "code",
   "execution_count": null,
   "id": "90093b33",
   "metadata": {},
   "outputs": [],
   "source": [
    "dd = .1\n",
    "def position(box, pos):\n",
    "    c = (box.l + box.u) / 2\n",
    "    if pos == 'center':\n",
    "        return c, 'center', 'center'\n",
    "    if pos == 'left':\n",
    "        c[0] = box.l[0] + dd\n",
    "        return c, 'left', 'center'\n",
    "    if pos == 'right':\n",
    "        c[0] = box.u[0]\n",
    "        return c, 'right', 'center'\n",
    "    if pos == 'bottom':\n",
    "        c[1] = box.l[1]\n",
    "        return c, 'center', 'bottom'\n",
    "    if pos == 'top':\n",
    "        c[1] = box.u[1] - dd\n",
    "        return c, 'center', 'top'"
   ]
  },
  {
   "cell_type": "code",
   "execution_count": null,
   "id": "023a8688",
   "metadata": {},
   "outputs": [],
   "source": [
    "idx = [0, 1, -1]\n",
    "trajs = [bez0, bez0, bez]\n",
    "\n",
    "positions = [\n",
    "    ['center', 'top', 'center', 'center', 'right', 'top'],\n",
    "    ['center', 'bottom', 'center', 'right', 'right', 'bottom'],\n",
    "    ['center', 'bottom', 'center', 'right', 'right', 'bottom']\n",
    "]\n",
    "for k, i in enumerate(idx):\n",
    "    \n",
    "    initialize_figure()\n",
    "    B.plot2d(alpha=.25)\n",
    "    B.plot2d(fc='moccasin', alpha=.75, subset=box_seq)\n",
    "    trajs[i].plot(c='b', zorder=5)\n",
    "    trajs[i].plot_control_polytopes(fc='b', alpha=.2)\n",
    "    for b in trajs[i].beziers:\n",
    "        plt.scatter(*b.points[0], c='b', marker='.')\n",
    "    for jj, j in enumerate(box_seq):\n",
    "        point = B.boxes[j].c\n",
    "        point, ha, va = position(B.boxes[j], positions[i][jj])\n",
    "#         plt.text(*point, f'${round(hs[k, jj] * 100 / T)}\\%$',\n",
    "#                  c='k', zorder=5, ha=ha, va=va)\n",
    "        \n",
    "    plt.scatter(*start, marker='o', fc='k', ec='k', zorder=5)\n",
    "    plt.scatter(*goal, marker='o', fc='k', ec='k', zorder=5)\n",
    "#     plt.savefig(f'bezier{k}.pdf', bbox_inches='tight')"
   ]
  }
 ],
 "metadata": {
  "kernelspec": {
   "display_name": "Python 3 (ipykernel)",
   "language": "python",
   "name": "python3"
  },
  "language_info": {
   "codemirror_mode": {
    "name": "ipython",
    "version": 3
   },
   "file_extension": ".py",
   "mimetype": "text/x-python",
   "name": "python",
   "nbconvert_exporter": "python",
   "pygments_lexer": "ipython3",
   "version": "3.11.2"
  }
 },
 "nbformat": 4,
 "nbformat_minor": 5
}
