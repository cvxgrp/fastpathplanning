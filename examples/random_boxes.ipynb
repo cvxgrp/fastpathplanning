{
 "cells": [
  {
   "cell_type": "code",
   "execution_count": null,
   "id": "1491aa5a",
   "metadata": {},
   "outputs": [],
   "source": [
    "import numpy as np\n",
    "import fastpathplanning as fpp"
   ]
  },
  {
   "cell_type": "code",
   "execution_count": null,
   "id": "ec7e1b1f",
   "metadata": {},
   "outputs": [],
   "source": [
    "from itertools import product\n",
    "\n",
    "# parameters\n",
    "P = 20 # side of the grid (square root of number of boxes)\n",
    "sides = [2, .5] # sides of the boxes\n",
    "\n",
    "# generate boxes\n",
    "np.random.seed(0)\n",
    "L = np.zeros((P ** 2, 2))\n",
    "U = np.zeros((P ** 2, 2))\n",
    "for k, c in enumerate(product(range(P), range(P))):\n",
    "    np.random.shuffle(sides)\n",
    "    diag = np.multiply(np.random.rand(2), sides)\n",
    "    L[k] = c - diag\n",
    "    U[k] = c + diag\n",
    "    \n",
    "# safe set\n",
    "S = fpp.SafeSet(L, U, verbose=True)"
   ]
  },
  {
   "cell_type": "code",
   "execution_count": null,
   "id": "d6bceb12",
   "metadata": {},
   "outputs": [],
   "source": [
    "# online path planning\n",
    "p_init = np.zeros(2) # initial point\n",
    "p_term = np.ones(2) * (P - 1) # terminal point\n",
    "T = P # final time\n",
    "alpha = [0, 1, 1] # cost weights\n",
    "p = fpp.plan(S, p_init, p_term, T, alpha, verbose=True)"
   ]
  },
  {
   "cell_type": "code",
   "execution_count": null,
   "id": "58e19315",
   "metadata": {},
   "outputs": [],
   "source": [
    "import matplotlib.pyplot as plt\n",
    "\n",
    "# plot result\n",
    "plt.figure()\n",
    "S.plot2d(alpha=.5) # plot safe set\n",
    "p.plot2d() # plot smooth path"
   ]
  },
  {
   "cell_type": "code",
   "execution_count": null,
   "id": "3983ded5",
   "metadata": {},
   "outputs": [],
   "source": []
  }
 ],
 "metadata": {
  "kernelspec": {
   "display_name": "Python 3 (ipykernel)",
   "language": "python",
   "name": "python3"
  },
  "language_info": {
   "codemirror_mode": {
    "name": "ipython",
    "version": 3
   },
   "file_extension": ".py",
   "mimetype": "text/x-python",
   "name": "python",
   "nbconvert_exporter": "python",
   "pygments_lexer": "ipython3",
   "version": "3.11.6"
  }
 },
 "nbformat": 4,
 "nbformat_minor": 5
}
