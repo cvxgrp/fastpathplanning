{
 "cells": [
  {
   "cell_type": "code",
   "execution_count": null,
   "id": "ffbeecf3",
   "metadata": {},
   "outputs": [],
   "source": [
    "import numpy as np\n",
    "import fastpathplanning as fpp"
   ]
  },
  {
   "cell_type": "code",
   "execution_count": null,
   "id": "edda7f7f",
   "metadata": {},
   "outputs": [],
   "source": [
    "from maze import Maze\n",
    "\n",
    "# side of the maze\n",
    "side = 20\n",
    "\n",
    "# number of walls that are eliminated\n",
    "# (if zero the maze has only one path)\n",
    "knock_downs = 10\n",
    "\n",
    "# construct maze\n",
    "maze = Maze(side, side)\n",
    "maze.make_maze()\n",
    "maze.knock_down_walls(knock_downs)"
   ]
  },
  {
   "cell_type": "code",
   "execution_count": null,
   "id": "66feabd2",
   "metadata": {},
   "outputs": [],
   "source": [
    "# nominal values for box bounds\n",
    "from itertools import product\n",
    "L = np.array(list(product(range(side), range(side))), dtype=float)\n",
    "U = L + 1\n",
    "\n",
    "# shrink boxes to eliminate overlap\n",
    "# if two cells are separated by a wall\n",
    "eps = .01\n",
    "for i in range(side):\n",
    "    for j in range(side):\n",
    "        cell = maze.get_cell(i, j)\n",
    "        k = i * side + j\n",
    "        for direction in maze.directions:\n",
    "            if cell.walls[direction]:\n",
    "                if direction == 'W':\n",
    "                    L[k, 0] += eps\n",
    "                elif direction == 'S':\n",
    "                    L[k, 1] += eps\n",
    "                elif direction == 'E':\n",
    "                    U[k, 0] -= eps\n",
    "                elif direction == 'N':\n",
    "                    U[k, 1] -= eps\n",
    "\n",
    "# compute safe set\n",
    "S = fpp.SafeSet(L, U, verbose=True)"
   ]
  },
  {
   "cell_type": "code",
   "execution_count": null,
   "id": "e4cef784",
   "metadata": {},
   "outputs": [],
   "source": [
    "# online path planning\n",
    "p_init = np.zeros(2) + 0.5 # initial point\n",
    "p_term = np.ones(2) * side - 0.5 # terminal point\n",
    "T = side * 10 # final time\n",
    "alpha = [0, 0, 1] # cost weights\n",
    "p = fpp.plan(S, p_init, p_term, T, alpha, verbose=True)"
   ]
  },
  {
   "cell_type": "code",
   "execution_count": null,
   "id": "45ae503e",
   "metadata": {},
   "outputs": [],
   "source": [
    "import matplotlib.pyplot as plt\n",
    "\n",
    "plt.figure()\n",
    "maze.plot() # plot maze walls\n",
    "p.plot2d() # plot smooth path"
   ]
  }
 ],
 "metadata": {
  "kernelspec": {
   "display_name": "Python 3 (ipykernel)",
   "language": "python",
   "name": "python3"
  },
  "language_info": {
   "codemirror_mode": {
    "name": "ipython",
    "version": 3
   },
   "file_extension": ".py",
   "mimetype": "text/x-python",
   "name": "python",
   "nbconvert_exporter": "python",
   "pygments_lexer": "ipython3",
   "version": "3.11.6"
  }
 },
 "nbformat": 4,
 "nbformat_minor": 5
}
