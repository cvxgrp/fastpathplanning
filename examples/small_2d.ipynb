{
 "cells": [
  {
   "cell_type": "code",
   "execution_count": 2,
   "id": "d14f75df",
   "metadata": {},
   "outputs": [
    {
     "name": "stdout",
     "output_type": "stream",
     "text": [
      "/usr/local/lib/python3.11/site-packages/setuptools/_distutils/dist.py:262: UserWarning: Unknown distribution option: 'authors'\n",
      "  warnings.warn(msg)\n",
      "/usr/local/lib/python3.11/site-packages/setuptools/_distutils/dist.py:262: UserWarning: Unknown distribution option: 'author_emails'\n",
      "  warnings.warn(msg)\n",
      "/usr/local/lib/python3.11/site-packages/setuptools/dist.py:544: UserWarning: The version specified ('') is an invalid version, this may not work as expected with newer versions of setuptools, pip, and PyPI. Please see PEP 440 for more details.\n",
      "  warnings.warn(\n",
      "running develop\n",
      "/usr/local/lib/python3.11/site-packages/setuptools/command/easy_install.py:144: EasyInstallDeprecationWarning: easy_install command is deprecated. Use build and pip and other standards-based tools.\n",
      "  warnings.warn(\n",
      "/usr/local/lib/python3.11/site-packages/setuptools/command/install.py:34: SetuptoolsDeprecationWarning: setup.py install is deprecated. Use build and pip and other standards-based tools.\n",
      "  warnings.warn(\n",
      "running egg_info\n",
      "creating fastpathplanning.egg-info\n",
      "writing fastpathplanning.egg-info/PKG-INFO\n",
      "writing dependency_links to fastpathplanning.egg-info/dependency_links.txt\n",
      "writing requirements to fastpathplanning.egg-info/requires.txt\n",
      "writing top-level names to fastpathplanning.egg-info/top_level.txt\n",
      "writing manifest file 'fastpathplanning.egg-info/SOURCES.txt'\n",
      "reading manifest file 'fastpathplanning.egg-info/SOURCES.txt'\n",
      "adding license file 'LICENSE'\n",
      "writing manifest file 'fastpathplanning.egg-info/SOURCES.txt'\n",
      "running build_ext\n",
      "Creating /usr/local/lib/python3.11/site-packages/fastpathplanning.egg-link (link to .)\n",
      "Adding fastpathplanning 0.0.0 to easy-install.pth file\n",
      "\n",
      "Installed /Users/tobia/codes/fpp\n",
      "Processing dependencies for fastpathplanning==0.0.0\n",
      "Searching for networkx==3.0\n",
      "Best match: networkx 3.0\n",
      "Adding networkx 3.0 to easy-install.pth file\n",
      "\n",
      "Using /usr/local/lib/python3.11/site-packages\n",
      "Searching for cvxpy==1.3.0\n",
      "Best match: cvxpy 1.3.0\n",
      "Adding cvxpy 1.3.0 to easy-install.pth file\n",
      "\n",
      "Using /usr/local/lib/python3.11/site-packages\n",
      "Searching for SciPy==1.10.1\n",
      "Best match: SciPy 1.10.1\n",
      "Adding SciPy 1.10.1 to easy-install.pth file\n",
      "\n",
      "Using /usr/local/lib/python3.11/site-packages\n",
      "Searching for numpy==1.24.2\n",
      "Best match: numpy 1.24.2\n",
      "Adding numpy 1.24.2 to easy-install.pth file\n",
      "Installing f2py script to /usr/local/bin\n",
      "Installing f2py3 script to /usr/local/bin\n",
      "Installing f2py3.11 script to /usr/local/bin\n",
      "\n",
      "Using /usr/local/lib/python3.11/site-packages\n",
      "Searching for setuptools==64.0.2\n",
      "Best match: setuptools 64.0.2\n",
      "Adding setuptools 64.0.2 to easy-install.pth file\n",
      "\n",
      "Using /usr/local/lib/python3.11/site-packages\n",
      "Searching for scs==3.2.2\n",
      "Best match: scs 3.2.2\n",
      "Adding scs 3.2.2 to easy-install.pth file\n",
      "\n",
      "Using /usr/local/lib/python3.11/site-packages\n",
      "Searching for ecos==2.0.12\n",
      "Best match: ecos 2.0.12\n",
      "Adding ecos 2.0.12 to easy-install.pth file\n",
      "\n",
      "Using /usr/local/lib/python3.11/site-packages\n",
      "Searching for osqp==0.6.2.post8\n",
      "Best match: osqp 0.6.2.post8\n",
      "Adding osqp 0.6.2.post8 to easy-install.pth file\n",
      "\n",
      "Using /usr/local/lib/python3.11/site-packages\n",
      "Searching for qdldl==0.1.5.post3\n",
      "Best match: qdldl 0.1.5.post3\n",
      "Adding qdldl 0.1.5.post3 to easy-install.pth file\n",
      "\n",
      "Using /usr/local/lib/python3.11/site-packages\n",
      "Finished processing dependencies for fastpathplanning==0.0.0\n"
     ]
    }
   ],
   "source": [
    "!cd ..; python3 setup.py develop"
   ]
  },
  {
   "cell_type": "code",
   "execution_count": 3,
   "id": "37dfdf43",
   "metadata": {},
   "outputs": [],
   "source": [
    "%matplotlib notebook\n",
    "%load_ext autoreload\n",
    "%autoreload 2"
   ]
  },
  {
   "cell_type": "code",
   "execution_count": 4,
   "id": "4def8f08",
   "metadata": {},
   "outputs": [
    {
     "ename": "ModuleNotFoundError",
     "evalue": "No module named 'fastpathplanning'",
     "output_type": "error",
     "traceback": [
      "\u001b[0;31m---------------------------------------------------------------------------\u001b[0m",
      "\u001b[0;31mModuleNotFoundError\u001b[0m                       Traceback (most recent call last)",
      "Cell \u001b[0;32mIn[4], line 4\u001b[0m\n\u001b[1;32m      1\u001b[0m \u001b[38;5;28;01mimport\u001b[39;00m \u001b[38;5;21;01mnumpy\u001b[39;00m \u001b[38;5;28;01mas\u001b[39;00m \u001b[38;5;21;01mnp\u001b[39;00m\n\u001b[1;32m      2\u001b[0m \u001b[38;5;28;01mimport\u001b[39;00m \u001b[38;5;21;01mmatplotlib\u001b[39;00m\u001b[38;5;21;01m.\u001b[39;00m\u001b[38;5;21;01mpyplot\u001b[39;00m \u001b[38;5;28;01mas\u001b[39;00m \u001b[38;5;21;01mplt\u001b[39;00m\n\u001b[0;32m----> 4\u001b[0m \u001b[38;5;28;01mfrom\u001b[39;00m \u001b[38;5;21;01mfastpathplanning\u001b[39;00m\u001b[38;5;21;01m.\u001b[39;00m\u001b[38;5;21;01mboxes\u001b[39;00m \u001b[38;5;28;01mimport\u001b[39;00m Box, BoxCollection\n\u001b[1;32m      5\u001b[0m \u001b[38;5;66;03m# from planning import build_min_distance\u001b[39;00m\n",
      "\u001b[0;31mModuleNotFoundError\u001b[0m: No module named 'fastpathplanning'"
     ]
    }
   ],
   "source": [
    "import numpy as np\n",
    "import matplotlib.pyplot as plt\n",
    "\n",
    "from fastpathplanning.boxes import Box, BoxCollection\n",
    "# from planning import build_min_distance"
   ]
  },
  {
   "cell_type": "markdown",
   "id": "9e6164ee",
   "metadata": {},
   "source": [
    "# Preprocessing"
   ]
  },
  {
   "cell_type": "code",
   "execution_count": null,
   "id": "270220d6",
   "metadata": {},
   "outputs": [],
   "source": [
    "from time import time\n",
    "\n",
    "d = 2\n",
    "n = 5\n",
    "sides = [2, .5]\n",
    "\n",
    "boxes = [\n",
    "    Box([   6.25,  4], [ 7.25,    5.75]),\n",
    "    Box([ 5.5,  2.5], [ 7.5, 4.75]),\n",
    "    Box([   1,    4], [   6,    5]),\n",
    "    Box([   .25, 1.5], [7,    3]),\n",
    "    Box([   2.25,    .75], [ 3, 2.5]),\n",
    "    Box([  .5,  -.25], [ 1.5,  4.5]),\n",
    "    Box([   2, 0], [   6.25,    1]),\n",
    "    Box([ 4.75,  -.25], [   6, 3.75]),\n",
    "    Box([ 0,  5.2], [   7, 6]),\n",
    "]\n",
    "B = BoxCollection(boxes)\n",
    "G = B.line_graph('optimize')"
   ]
  },
  {
   "cell_type": "code",
   "execution_count": null,
   "id": "93a7e36f",
   "metadata": {},
   "outputs": [],
   "source": [
    "plt.figure()\n",
    "B.plot2d(alpha=.5)\n",
    "G.plot()"
   ]
  },
  {
   "cell_type": "markdown",
   "id": "bf6086fb",
   "metadata": {},
   "source": [
    "# Discrete shortest path"
   ]
  },
  {
   "cell_type": "code",
   "execution_count": null,
   "id": "227060d8",
   "metadata": {},
   "outputs": [],
   "source": [
    "start = np.array([1, .25])\n",
    "goal = np.array([.5, 5.6])"
   ]
  },
  {
   "cell_type": "code",
   "execution_count": null,
   "id": "1ddeffa0",
   "metadata": {},
   "outputs": [],
   "source": [
    "# Solves all-to-one shortest path for a fixed goal location.\n",
    "discrete_planner, runtime = G.shortest_path(goal)\n",
    "runtime"
   ]
  },
  {
   "cell_type": "code",
   "execution_count": null,
   "id": "f2189035",
   "metadata": {},
   "outputs": [],
   "source": [
    "# Given start location finds box sequence (and initial trajectory).\n",
    "box_seq, length, runtime = discrete_planner(start)\n",
    "length, runtime"
   ]
  },
  {
   "cell_type": "markdown",
   "id": "6753adec",
   "metadata": {},
   "source": [
    "# Continuous minimum-distance problem"
   ]
  },
  {
   "cell_type": "code",
   "execution_count": null,
   "id": "c29eb8e2",
   "metadata": {},
   "outputs": [],
   "source": [
    "# Builds optimization problem (can be done offline).\n",
    "max_boxes = len(box_seq)\n",
    "continuous_planner = build_min_distance(B, max_boxes)"
   ]
  },
  {
   "cell_type": "code",
   "execution_count": null,
   "id": "f5d5d405",
   "metadata": {},
   "outputs": [],
   "source": [
    "traj, length, solver_time, runtime = continuous_planner(box_seq, start, goal)\n",
    "length, solver_time, runtime"
   ]
  },
  {
   "cell_type": "code",
   "execution_count": null,
   "id": "70f50b7c",
   "metadata": {},
   "outputs": [],
   "source": [
    "plt.figure(figsize=(5, 5))\n",
    "B.plot2d(alpha=.5)\n",
    "plt.plot(*traj.T, c='b')"
   ]
  },
  {
   "cell_type": "code",
   "execution_count": null,
   "id": "f9d5d157",
   "metadata": {},
   "outputs": [],
   "source": [
    "# Builds optimization problem (can be done offline).\n",
    "iterative = True\n",
    "max_boxes = 2 * n\n",
    "continuous_planner = build_min_distance(B, max_boxes, iterative, solver='ECOS')\n",
    "\n",
    "# Refresh discrete plan.\n",
    "box_seq, runtime, length = discrete_planner(start)"
   ]
  },
  {
   "cell_type": "code",
   "execution_count": null,
   "id": "f501bc2f",
   "metadata": {},
   "outputs": [],
   "source": [
    "box_seq, traj, length, iters, solver_time, runtime = continuous_planner(box_seq, start, goal)\n",
    "length, solver_time, runtime"
   ]
  },
  {
   "cell_type": "code",
   "execution_count": null,
   "id": "46adb02f",
   "metadata": {},
   "outputs": [],
   "source": [
    "plt.figure(figsize=(5, 5))\n",
    "B.plot2d(alpha=.5)\n",
    "B.plot2d(subset=box_seq, fc='None', ec='r')\n",
    "plt.plot(*traj.T, c='b', marker='+')"
   ]
  },
  {
   "cell_type": "markdown",
   "id": "ba134458",
   "metadata": {},
   "source": [
    "# Smooth using Bezier"
   ]
  },
  {
   "cell_type": "code",
   "execution_count": null,
   "id": "87bd740b",
   "metadata": {},
   "outputs": [],
   "source": [
    "import cvxpy as cp\n",
    "from bezier import optimize_bezier, optimize_bezier_with_retiming\n",
    "\n",
    "L = np.array([B.boxes[i].l for i in box_seq])\n",
    "U = np.array([B.boxes[i].u for i in box_seq])\n",
    "\n",
    "alpha = {2: 1, 3: 1}\n",
    "initial = {0: start}\n",
    "final = {0: goal}\n",
    "\n",
    "T = n\n",
    "duations = np.linalg.norm(traj[1:] - traj[:-1], axis=1)\n",
    "duations *= T / sum(duations)"
   ]
  },
  {
   "cell_type": "code",
   "execution_count": null,
   "id": "5c25510a",
   "metadata": {},
   "outputs": [],
   "source": [
    "path, sol_stats = optimize_bezier_with_retiming(L, U, duations, alpha, initial, final, verbose=True)"
   ]
  },
  {
   "cell_type": "code",
   "execution_count": null,
   "id": "398569ef",
   "metadata": {},
   "outputs": [],
   "source": [
    "plt.figure()\n",
    "B.plot2d(alpha=.5)\n",
    "path.plot(c='b', linewidth=3)\n",
    "plt.axis('off')\n",
    "plt.savefig('example_small.pdf', bbox_inches='tight')"
   ]
  }
 ],
 "metadata": {
  "kernelspec": {
   "display_name": "Python 3 (ipykernel)",
   "language": "python",
   "name": "python3"
  },
  "language_info": {
   "codemirror_mode": {
    "name": "ipython",
    "version": 3
   },
   "file_extension": ".py",
   "mimetype": "text/x-python",
   "name": "python",
   "nbconvert_exporter": "python",
   "pygments_lexer": "ipython3",
   "version": "3.11.2"
  }
 },
 "nbformat": 4,
 "nbformat_minor": 5
}
