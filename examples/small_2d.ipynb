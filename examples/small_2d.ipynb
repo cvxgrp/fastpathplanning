{
 "cells": [
  {
   "cell_type": "code",
   "execution_count": null,
   "id": "1491aa5a",
   "metadata": {},
   "outputs": [],
   "source": [
    "import numpy as np\n",
    "import fastpathplanning as fpp"
   ]
  },
  {
   "cell_type": "code",
   "execution_count": null,
   "id": "a72a19da",
   "metadata": {},
   "outputs": [],
   "source": [
    "# offline preprocessing\n",
    "L = np.array([\n",
    "    [   4, 6.25],\n",
    "    [ 2.5,  5.5],\n",
    "    [   4,    1],\n",
    "    [ 1.5,  .25],\n",
    "    [ .75, 2.25],\n",
    "    [-.25,   .5],\n",
    "    [   0,    2],\n",
    "    [-.25, 4.75],\n",
    "    [ 5.2,    0]\n",
    "]) # lower bounds of the safe boxes\n",
    "U = np.array([\n",
    "    [5.75, 7.25],\n",
    "    [4.75,  7.5],\n",
    "    [   5,    6],\n",
    "    [   3,    7],\n",
    "    [ 2.5,    3],\n",
    "    [ 4.5,  1.5],\n",
    "    [   1, 6.25],\n",
    "    [3.75,    6],\n",
    "    [   6,    7]\n",
    "])# upper bounds of the safe boxes\n",
    "S = fpp.SafeSet(L, U, verbose=True)"
   ]
  },
  {
   "cell_type": "code",
   "execution_count": null,
   "id": "d6bceb12",
   "metadata": {},
   "outputs": [],
   "source": [
    "# online path planning\n",
    "p_init = np.array([.25, 1]) # initial point\n",
    "p_term = np.array([5.6, .5]) # terminal point\n",
    "T = 10 # final time\n",
    "global_minimum = 0.5198965312777519\n",
    "alpha = [0, 0, 1/global_minimum] # cost weights\n",
    "p = fpp.plan(S, p_init, p_term, T, alpha, verbose=True)"
   ]
  },
  {
   "cell_type": "code",
   "execution_count": null,
   "id": "4ff570b3",
   "metadata": {},
   "outputs": [],
   "source": [
    "# evaluate solution\n",
    "t = 0.5 # sample time\n",
    "print(p(t))"
   ]
  },
  {
   "cell_type": "code",
   "execution_count": null,
   "id": "58e19315",
   "metadata": {
    "scrolled": false
   },
   "outputs": [],
   "source": [
    "import matplotlib.pyplot as plt\n",
    "\n",
    "# plot result\n",
    "plt.figure()\n",
    "S.plot2d(alpha=.5) # plot safe set\n",
    "p.plot2d() # plot smooth path"
   ]
  }
 ],
 "metadata": {
  "kernelspec": {
   "display_name": "Python 3 (ipykernel)",
   "language": "python",
   "name": "python3"
  },
  "language_info": {
   "codemirror_mode": {
    "name": "ipython",
    "version": 3
   },
   "file_extension": ".py",
   "mimetype": "text/x-python",
   "name": "python",
   "nbconvert_exporter": "python",
   "pygments_lexer": "ipython3",
   "version": "3.11.6"
  }
 },
 "nbformat": 4,
 "nbformat_minor": 5
}
