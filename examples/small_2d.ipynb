{
 "cells": [
  {
   "cell_type": "code",
   "execution_count": null,
   "id": "a72a19da",
   "metadata": {},
   "outputs": [],
   "source": [
    "!cd ..; python3 setup.py develop"
   ]
  },
  {
   "cell_type": "code",
   "execution_count": null,
   "id": "37dfdf43",
   "metadata": {},
   "outputs": [],
   "source": [
    "%matplotlib notebook\n",
    "%load_ext autoreload\n",
    "%autoreload 2"
   ]
  },
  {
   "cell_type": "code",
   "execution_count": null,
   "id": "4def8f08",
   "metadata": {},
   "outputs": [],
   "source": [
    "import numpy as np\n",
    "import cvxpy as cp\n",
    "import matplotlib.pyplot as plt\n",
    "\n",
    "from fastpathplanning.boxes import Box, BoxCollection\n",
    "from fastpathplanning.polygonal import build_min_distance\n",
    "from fastpathplanning.smooth import optimize_bezier_with_retiming"
   ]
  },
  {
   "cell_type": "markdown",
   "id": "9e6164ee",
   "metadata": {},
   "source": [
    "# Preprocessing"
   ]
  },
  {
   "cell_type": "code",
   "execution_count": null,
   "id": "270220d6",
   "metadata": {},
   "outputs": [],
   "source": [
    "d = 2\n",
    "n = 5\n",
    "sides = [2, .5]\n",
    "\n",
    "boxes = [\n",
    "    Box([   6.25,  4], [ 7.25,    5.75]),\n",
    "    Box([ 5.5,  2.5], [ 7.5, 4.75]),\n",
    "    Box([   1,    4], [   6,    5]),\n",
    "    Box([   .25, 1.5], [7,    3]),\n",
    "    Box([   2.25,    .75], [ 3, 2.5]),\n",
    "    Box([  .5,  -.25], [ 1.5,  4.5]),\n",
    "    Box([   2, 0], [   6.25,    1]),\n",
    "    Box([ 4.75,  -.25], [   6, 3.75]),\n",
    "    Box([ 0,  5.2], [   7, 6]),\n",
    "]\n",
    "B = BoxCollection(boxes)\n",
    "G = B.line_graph()"
   ]
  },
  {
   "cell_type": "code",
   "execution_count": null,
   "id": "93a7e36f",
   "metadata": {},
   "outputs": [],
   "source": [
    "plt.figure()\n",
    "B.plot2d(alpha=.5)\n",
    "G.plot()"
   ]
  },
  {
   "cell_type": "markdown",
   "id": "bf6086fb",
   "metadata": {},
   "source": [
    "# Polygonal phase"
   ]
  },
  {
   "cell_type": "code",
   "execution_count": null,
   "id": "227060d8",
   "metadata": {},
   "outputs": [],
   "source": [
    "start = np.array([1, .25])\n",
    "goal = np.array([.5, 5.6])"
   ]
  },
  {
   "cell_type": "code",
   "execution_count": null,
   "id": "1ddeffa0",
   "metadata": {},
   "outputs": [],
   "source": [
    "# Solves all-to-one shortest path for a fixed goal location.\n",
    "discrete_planner, runtime = G.shortest_path(goal)\n",
    "runtime"
   ]
  },
  {
   "cell_type": "code",
   "execution_count": null,
   "id": "f2189035",
   "metadata": {},
   "outputs": [],
   "source": [
    "# Given start location finds box sequence (and initial trajectory).\n",
    "box_seq, length, runtime = discrete_planner(start)\n",
    "length, runtime"
   ]
  },
  {
   "cell_type": "code",
   "execution_count": null,
   "id": "f9d5d157",
   "metadata": {},
   "outputs": [],
   "source": [
    "# Builds optimization problem (can be done offline).\n",
    "iterative = True\n",
    "max_boxes = 2 * n\n",
    "continuous_planner = build_min_distance(B, max_boxes, iterative, solver='ECOS')\n",
    "\n",
    "# Refresh discrete plan.\n",
    "box_seq, runtime, length = discrete_planner(start)"
   ]
  },
  {
   "cell_type": "code",
   "execution_count": null,
   "id": "f501bc2f",
   "metadata": {},
   "outputs": [],
   "source": [
    "box_seq, traj, length, iters, solver_time, runtime = continuous_planner(box_seq, start, goal)\n",
    "length, solver_time, runtime"
   ]
  },
  {
   "cell_type": "code",
   "execution_count": null,
   "id": "46adb02f",
   "metadata": {},
   "outputs": [],
   "source": [
    "plt.figure(figsize=(5, 5))\n",
    "B.plot2d(alpha=.5)\n",
    "B.plot2d(subset=box_seq, fc='None', ec='r')\n",
    "plt.plot(*traj.T, c='b')"
   ]
  },
  {
   "cell_type": "markdown",
   "id": "ba134458",
   "metadata": {},
   "source": [
    "# Smooth phase"
   ]
  },
  {
   "cell_type": "code",
   "execution_count": null,
   "id": "87bd740b",
   "metadata": {},
   "outputs": [],
   "source": [
    "# Fix box sequence.\n",
    "L = np.array([B.boxes[i].l for i in box_seq])\n",
    "U = np.array([B.boxes[i].u for i in box_seq])\n",
    "\n",
    "# Cost coefficients.\n",
    "alpha = {2: 1, 3: 1}\n",
    "\n",
    "# Boundary conditions.\n",
    "initial = {0: start}\n",
    "final = {0: goal}\n",
    "\n",
    "# Traversal time.\n",
    "T = n"
   ]
  },
  {
   "cell_type": "code",
   "execution_count": null,
   "id": "5a0e7acd",
   "metadata": {},
   "outputs": [],
   "source": [
    "# Initialize transition times.\n",
    "durations = np.linalg.norm(traj[1:] - traj[:-1], axis=1)\n",
    "durations *= T / sum(durations)"
   ]
  },
  {
   "cell_type": "code",
   "execution_count": null,
   "id": "5c25510a",
   "metadata": {},
   "outputs": [],
   "source": [
    "path, sol_stats = optimize_bezier_with_retiming(L, U, durations, alpha, initial, final, verbose=True)"
   ]
  },
  {
   "cell_type": "code",
   "execution_count": null,
   "id": "398569ef",
   "metadata": {},
   "outputs": [],
   "source": [
    "plt.figure()\n",
    "B.plot2d(alpha=.5)\n",
    "path.plot(c='b')"
   ]
  }
 ],
 "metadata": {
  "kernelspec": {
   "display_name": "Python 3 (ipykernel)",
   "language": "python",
   "name": "python3"
  },
  "language_info": {
   "codemirror_mode": {
    "name": "ipython",
    "version": 3
   },
   "file_extension": ".py",
   "mimetype": "text/x-python",
   "name": "python",
   "nbconvert_exporter": "python",
   "pygments_lexer": "ipython3",
   "version": "3.11.2"
  }
 },
 "nbformat": 4,
 "nbformat_minor": 5
}
