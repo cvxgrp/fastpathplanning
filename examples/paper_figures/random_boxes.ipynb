{
 "cells": [
  {
   "cell_type": "code",
   "execution_count": null,
   "id": "86b3180b",
   "metadata": {},
   "outputs": [],
   "source": [
    "import numpy as np\n",
    "import matplotlib.pyplot as plt"
   ]
  },
  {
   "cell_type": "code",
   "execution_count": null,
   "id": "ffc90c52",
   "metadata": {},
   "outputs": [],
   "source": [
    "sides = np.array([5, 10, 20, 40, 80, 160])\n",
    "times = np.array([\n",
    "    [0.004834717370483398, 0.02963681176965332, 0.18151115869836426,\n",
    "     1.0849900199951172, 4.794845426203247, 28.21403479073462],\n",
    "    [0.00222157189404297, 0.0018270704166259769, 0.007768935526245118,\n",
    "     0.015981619953124998, 0.04514104149609375, 0.13690082524365235],\n",
    "    [0.047225522024536004, 0.07961979003149433, 0.3367719671444096,\n",
    "     0.5160465583714595, 1.6592514476026619, 4.161061030096555],\n",
    "])\n",
    "costs = np.array([37.67486750177922, 25.103240991062872, 348.64663725915966,\n",
    "                  290.3459133084126, 257.71354427897234, 1334.1862244850618])\n",
    "iters = np.array([\n",
    "    [2, 1, 3, 3, 4, 4],\n",
    "    [5, 5, 5, 5, 6, 5]\n",
    "])"
   ]
  },
  {
   "cell_type": "code",
   "execution_count": null,
   "id": "f3c1158b",
   "metadata": {},
   "outputs": [],
   "source": [
    "import matplotlib.pyplot as plt\n",
    "plt.rcParams.update({\"\"\n",
    "    \"text.usetex\": True,\n",
    "    \"font.family\": \"sans-serif\",\n",
    "    \"font.sans-serif\": \"Helvetica\",\n",
    "})\n",
    "\n",
    "plt.figure(figsize=(4, 2.9))\n",
    "num_boxes = np.array(sides) ** 2\n",
    "plt.plot(num_boxes, times[0], marker='o',\n",
    "         markeredgecolor='k', label='Offline preprocessing')\n",
    "plt.plot(num_boxes, times[1], marker='o',\n",
    "         markeredgecolor='k', label='Polygonal phase')\n",
    "plt.plot(num_boxes, times[2], marker='o',\n",
    "         markeredgecolor='k', label='Smooth phase')\n",
    "\n",
    "plt.legend()\n",
    "plt.xlim([1e1, 1e5])\n",
    "plt.ylim([1e-3, 1e2])\n",
    "plt.xlabel('Number of boxes $K$')\n",
    "plt.ylabel('Computation times (s)')\n",
    "plt.xscale('log')\n",
    "plt.yscale('log')\n",
    "plt.grid()\n",
    "plt.savefig('runtimes_revised.pdf', bbox_inches='tight')"
   ]
  },
  {
   "cell_type": "markdown",
   "id": "90f362c8",
   "metadata": {},
   "source": [
    "# Mixed integer optimization"
   ]
  },
  {
   "cell_type": "code",
   "execution_count": null,
   "id": "4f5d9564",
   "metadata": {},
   "outputs": [],
   "source": [
    "N = len(L)\n",
    "p_mip = fpp.mixed_integer(L, U, alpha, p_init, p_term, T, N, solver='CPLEX')"
   ]
  }
 ],
 "metadata": {
  "kernelspec": {
   "display_name": "Python 3 (ipykernel)",
   "language": "python",
   "name": "python3"
  },
  "language_info": {
   "codemirror_mode": {
    "name": "ipython",
    "version": 3
   },
   "file_extension": ".py",
   "mimetype": "text/x-python",
   "name": "python",
   "nbconvert_exporter": "python",
   "pygments_lexer": "ipython3",
   "version": "3.9.16"
  }
 },
 "nbformat": 4,
 "nbformat_minor": 5
}
