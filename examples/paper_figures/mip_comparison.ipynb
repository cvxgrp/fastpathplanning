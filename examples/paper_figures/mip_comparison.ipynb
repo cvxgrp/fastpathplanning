{
 "cells": [
  {
   "cell_type": "code",
   "execution_count": null,
   "metadata": {},
   "outputs": [],
   "source": [
    "%matplotlib notebook\n",
    "%load_ext autoreload\n",
    "%autoreload 2"
   ]
  },
  {
   "cell_type": "code",
   "execution_count": null,
   "metadata": {},
   "outputs": [],
   "source": [
    "import numpy as np\n",
    "import matplotlib.pyplot as plt\n",
    "import fastpathplanning as fpp"
   ]
  },
  {
   "cell_type": "code",
   "execution_count": null,
   "metadata": {},
   "outputs": [],
   "source": [
    "L = np.array([\n",
    "    [6.25,    4],\n",
    "    [ 5.5,  2.5],\n",
    "    [   1,    4],\n",
    "    [ .25,  1.5],\n",
    "    [2.25,  .75],\n",
    "    [  .5, -.25],\n",
    "    [   2,    0],\n",
    "    [4.75, -.25],\n",
    "    [   0,  5.2]\n",
    "]) # lower bounds of the safe boxes\n",
    "U = np.array([\n",
    "    [7.25, 5.75],\n",
    "    [ 7.5, 4.75],\n",
    "    [   6,    5],\n",
    "    [   7,    3],\n",
    "    [   3,  2.5],\n",
    "    [ 1.5,  4.5],\n",
    "    [6.25,    1],\n",
    "    [   6, 3.75],\n",
    "    [   7,    6]\n",
    "])# upper bounds of the safe boxes\n",
    "p_init = np.array([1, .25]) # initial point\n",
    "p_term = np.array([.5, 5.6]) # terminal point\n",
    "T = 10 # traversal time\n",
    "global_minimum = 0.5198965312777519\n",
    "alpha = [0, 0, 1/global_minimum] # cost weights"
   ]
  },
  {
   "cell_type": "code",
   "execution_count": null,
   "metadata": {},
   "outputs": [],
   "source": [
    "# segments in the mip parametrization\n",
    "min_segments = 9\n",
    "max_segments = 18\n",
    "n_segments = max_segments - min_segments + 1\n",
    "segments = np.arange(min_segments, max_segments + 1)"
   ]
  },
  {
   "cell_type": "code",
   "execution_count": null,
   "metadata": {},
   "outputs": [],
   "source": [
    "# our times and cost\n",
    "offline = 0.001501278604003906\n",
    "polygonal = 0.0017126810527343748\n",
    "smooth = 0.014897858378906226\n",
    "ours = (offline + polygonal + smooth, 1.0001332093597541)\n",
    "ours"
   ]
  },
  {
   "cell_type": "code",
   "execution_count": null,
   "metadata": {},
   "outputs": [],
   "source": [
    "# mixed integer times and costs\n",
    "times = []\n",
    "costs = []\n",
    "for N in segments:\n",
    "    print(f'{N} segments:')\n",
    "    path, cost, runtime = fpp.mixed_integer(L, U, alpha, p_init, p_term, T, N,\n",
    "                                            solver='MOSEK', verbose=False)\n",
    "    print(f'Solve time: {runtime}')\n",
    "    print(f'Path cost: {cost}')"
   ]
  },
  {
   "cell_type": "code",
   "execution_count": null,
   "metadata": {},
   "outputs": [],
   "source": [
    "mosek_times = [2.184000015258789, 6.04566502571106, 11.82934284210205, 12.819207191467285,\n",
    "               15.553215026855469, 58.376124143600464, 123.59091114997864, 81.09816598892212,\n",
    "               184.94813895225525, 404.21183705329895][:n_segments]\n",
    "gurobi_times = [0.19363880157470703, 0.25190114974975586, 0.2583489418029785, 0.29549407958984375,\n",
    "                0.37866711616516113, 0.5751729011535645, 0.6491379737854004, 0.7569220066070557,\n",
    "                1.0049991607666016, 1.5620810985565186][:n_segments]\n",
    "cplex_times = [0.12417006492614746, 0.1770470142364502, 0.19611287117004395, 0.27880215644836426,\n",
    "               0.2930431365966797, 0.4250659942626953, 0.43905186653137207, 0.7057430744171143,\n",
    "               0.7633371353149414, 0.8758621215820312][:n_segments]\n",
    "costs = [1.2742344306549447, 1.2646842263720564, 1.1930159036048056, 1.0786720929559026,\n",
    "         1.1753031445198519, 1.113692395115661, 1.0118039763104556, 1.0427954179079513,\n",
    "         1.090919340997741, 1.0601955977954711][:n_segments]"
   ]
  },
  {
   "cell_type": "code",
   "execution_count": null,
   "metadata": {},
   "outputs": [],
   "source": [
    "plt.rcParams.update({\"\"\n",
    "    \"text.usetex\": True,\n",
    "    \"font.family\": \"sans-serif\",\n",
    "    \"font.sans-serif\": \"Helvetica\",\n",
    "})"
   ]
  },
  {
   "cell_type": "code",
   "execution_count": null,
   "metadata": {},
   "outputs": [],
   "source": [
    "plt.figure(figsize=(3.8, 3.5))\n",
    "\n",
    "cplex_color = '#1f77b4'\n",
    "gurobi_color = '#ff7f0e'\n",
    "mosek_color = '#2ca02c'\n",
    "\n",
    "plt.scatter(*ours, marker='*', color='yellow', edgecolor='k', s=150,\n",
    "            label='FPP (ours)', zorder=5)\n",
    "plt.plot(gurobi_times, costs, gurobi_color, marker='o',\n",
    "         markeredgecolor='k', label='Gurobi')\n",
    "plt.plot(cplex_times, costs, cplex_color, marker='o',\n",
    "         markeredgecolor='k', label='CPLEX')\n",
    "plt.plot(mosek_times, costs, mosek_color, marker='o',\n",
    "         markeredgecolor='k', label='MOSEK')\n",
    "\n",
    "props = dict(boxstyle='round', facecolor='white')\n",
    "offset = 1.2\n",
    "for i in range(len(cplex_times)):\n",
    "    m = min([cplex_times[i], gurobi_times[i], mosek_times[i]])\n",
    "    plt.plot([m, 2e3], [costs[i]] * 2, linestyle=':',\n",
    "                 color='grey', zorder=-1)\n",
    "\n",
    "plt.gca().set_xscale('log')\n",
    "plt.grid()\n",
    "plt.xlabel('Planning time (s)')\n",
    "plt.ylabel('Path cost')\n",
    "plt.gca().set_axisbelow(True)\n",
    "plt.xlim([1e-2, 6e2])\n",
    "ylims = [.98, 1.30]\n",
    "plt.ylim(ylims)\n",
    "# plt.legend(loc=2)\n",
    "plt.gca().legend(loc='upper center', bbox_to_anchor=(0.48, 1.25), ncol=2)\n",
    "\n",
    "ax2 = plt.gca().twinx()\n",
    "ax2.set_ylabel('Subpaths $N$')\n",
    "ax2.set_yticks(costs)\n",
    "ax2.set_yticklabels([f'${i}$' for i in segments])\n",
    "ax2.set_ylim(ylims)\n",
    "plt.savefig('mip_comparison_revised.pdf', bbox_inches='tight')"
   ]
  },
  {
   "cell_type": "code",
   "execution_count": null,
   "metadata": {},
   "outputs": [],
   "source": []
  }
 ],
 "metadata": {
  "kernelspec": {
   "display_name": "Python 3 (ipykernel)",
   "language": "python",
   "name": "python3"
  },
  "language_info": {
   "codemirror_mode": {
    "name": "ipython",
    "version": 3
   },
   "file_extension": ".py",
   "mimetype": "text/x-python",
   "name": "python",
   "nbconvert_exporter": "python",
   "pygments_lexer": "ipython3",
   "version": "3.11.2"
  }
 },
 "nbformat": 4,
 "nbformat_minor": 4
}
