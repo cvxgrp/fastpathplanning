{
 "cells": [
  {
   "cell_type": "code",
   "execution_count": null,
   "id": "1491aa5a",
   "metadata": {},
   "outputs": [],
   "source": [
    "import numpy as np\n",
    "import fastpathplanning as fpp"
   ]
  },
  {
   "cell_type": "code",
   "execution_count": null,
   "id": "ec7e1b1f",
   "metadata": {},
   "outputs": [],
   "source": [
    "from itertools import product\n",
    "\n",
    "# parameters\n",
    "P = 160 # side of the grid (square root of number of boxes)\n",
    "sides = [2, .5] # sides of the boxes\n",
    "\n",
    "# generate boxes\n",
    "np.random.seed(1)\n",
    "L = np.zeros((P ** 2, 2))\n",
    "U = np.zeros((P ** 2, 2))\n",
    "for k, c in enumerate(product(range(P), range(P))):\n",
    "    np.random.shuffle(sides)\n",
    "    diag = np.multiply(np.random.rand(2), sides)\n",
    "    L[k] = c - diag\n",
    "    U[k] = c + diag\n",
    "    \n",
    "# safe set\n",
    "S = fpp.SafeSet(L, U, verbose=True)"
   ]
  },
  {
   "cell_type": "code",
   "execution_count": null,
   "id": "d6bceb12",
   "metadata": {},
   "outputs": [],
   "source": [
    "# online path planning\n",
    "p_init = np.zeros(2) # initial point\n",
    "p_term = np.ones(2) * (P - 1) # terminal point\n",
    "T = P # traversal time\n",
    "alpha = [0, 1, 1] # cost weights\n",
    "p = fpp.plan(S, p_init, p_term, T, alpha, verbose=True)"
   ]
  },
  {
   "cell_type": "code",
   "execution_count": null,
   "id": "58e19315",
   "metadata": {},
   "outputs": [],
   "source": [
    "import matplotlib.pyplot as plt\n",
    "from fastpathplanning.boxes import Box\n",
    "\n",
    "lw = 3\n",
    "color = 'lime'\n",
    "zoom_side = 10\n",
    "zoom_center = np.array([29, 24])\n",
    "\n",
    "plt.figure(figsize=(9, 9))\n",
    "plt.axis('off')\n",
    "S.plot2d(alpha=.5)\n",
    "p.plot2d(linewidth=lw)\n",
    "\n",
    "zoom = Box(zoom_center, zoom_center + zoom_side)\n",
    "zoom.plot2d(fc='None', ec=color, linewidth=lw, zorder=3)\n",
    "\n",
    "r = .16\n",
    "c = np.array([.7, .31])\n",
    "xlim = np.array(plt.gca().get_xlim())\n",
    "ylim = np.array(plt.gca().get_ylim())\n",
    "wx = xlim[1] - xlim[0]\n",
    "wy = ylim[1] - ylim[0]\n",
    "c_scaled = np.array([\n",
    "    xlim[0] + c[0] * wx + (c[0] - .5) * 2 * r * wx,\n",
    "    ylim[0] + c[1] * wy + (c[1] - .5) * 2 * r * wy,\n",
    "])\n",
    "start = zoom.c + (c_scaled - zoom.c) / max(c_scaled - zoom.c) * zoom_side / 2\n",
    "plt.plot([start[0], c_scaled[0]], [start[1], c_scaled[1]],\n",
    "         color=color, linewidth=lw, linestyle='--')\n",
    "\n",
    "a = plt.axes([*(c - r), 2 * r, 2 * r])\n",
    "for side in ['bottom', 'right', 'top', 'left']:\n",
    "    a.spines[side].set_color(color)\n",
    "    a.spines[side].set_linewidth(lw)\n",
    "t = np.linspace(0, 10)\n",
    "S.plot2d(alpha=.5)\n",
    "p.plot2d(linewidth=lw)\n",
    "plt.xlim(zoom.l[0], zoom.u[0])\n",
    "plt.ylim(zoom.l[1], zoom.u[1])\n",
    "plt.xticks([])\n",
    "plt.yticks([])\n",
    "plt.savefig('example_large_revised.pdf', bbox_inches='tight')"
   ]
  },
  {
   "cell_type": "code",
   "execution_count": null,
   "id": "26e6010c",
   "metadata": {},
   "outputs": [],
   "source": []
  }
 ],
 "metadata": {
  "kernelspec": {
   "display_name": "Python 3 (ipykernel)",
   "language": "python",
   "name": "python3"
  },
  "language_info": {
   "codemirror_mode": {
    "name": "ipython",
    "version": 3
   },
   "file_extension": ".py",
   "mimetype": "text/x-python",
   "name": "python",
   "nbconvert_exporter": "python",
   "pygments_lexer": "ipython3",
   "version": "3.9.16"
  }
 },
 "nbformat": 4,
 "nbformat_minor": 5
}
